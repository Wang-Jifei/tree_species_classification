{
 "cells": [
  {
   "cell_type": "markdown",
   "metadata": {},
   "source": [
    "# GLCM feature function"
   ]
  },
  {
   "cell_type": "code",
   "execution_count": 1,
   "metadata": {},
   "outputs": [],
   "source": [
    "#!pip install opencv-python"
   ]
  },
  {
   "cell_type": "code",
   "execution_count": 1,
   "metadata": {},
   "outputs": [],
   "source": [
    "import cv2\n",
    "from skimage.feature import greycomatrix, greycoprops\n",
    "import numpy as np\n",
    "import math"
   ]
  },
  {
   "cell_type": "code",
   "execution_count": 3,
   "metadata": {},
   "outputs": [],
   "source": [
    "img = cv2.imread(r'data\\tree.tif', cv2.IMREAD_GRAYSCALE)"
   ]
  },
  {
   "cell_type": "code",
   "execution_count": 4,
   "metadata": {},
   "outputs": [],
   "source": [
    "glcm = greycomatrix(\n",
    "        img, [\n",
    "            2, 8, 16], [\n",
    "            0, np.pi / 4, np.pi / 2, np.pi * 3 / 4], 256, symmetric=True, normed=True) # define GLCM"
   ]
  },
  {
   "cell_type": "code",
   "execution_count": 18,
   "metadata": {},
   "outputs": [],
   "source": [
    "def contrast_feature(matrix_coocurrence):\n",
    "    contrast = greycoprops(matrix_coocurrence, 'contrast')\n",
    "    return contrast\n",
    "\n",
    "def dissimilarity_feature(matrix_coocurrence):\n",
    "    dissimilarity = greycoprops(matrix_coocurrence, 'dissimilarity')   \n",
    "    return dissimilarity\n",
    "\n",
    "def homogeneity_feature(matrix_coocurrence):\n",
    "    homogeneity = greycoprops(matrix_coocurrence, 'homogeneity')\n",
    "    return homogeneity\n",
    "\n",
    "def energy_feature(matrix_coocurrence):\n",
    "    energy = greycoprops(matrix_coocurrence, 'energy')\n",
    "    return energy\n",
    "\n",
    "def correlation_feature(matrix_coocurrence):\n",
    "    correlation = greycoprops(matrix_coocurrence, 'correlation')\n",
    "    return  correlation\n",
    "\n",
    "def secondmoment_feature(matrix_coocurrence):\n",
    "    asm = greycoprops(matrix_coocurrence, 'ASM')\n",
    "    return  asm\n",
    "def mean_feature(matrix_coocurrence):\n",
    "    summation = 0\n",
    "    for i in range(matrix_coocurrence.shape[0]):\n",
    "        for j in range(matrix_coocurrence.shape[1]):\n",
    "            v = i * matrix_coocurrence[i][j]   # whether to remove i\n",
    "            summation += v\n",
    "    return summation\n",
    "def variance_feature(matrix_coocurrence):\n",
    "    summation = 0\n",
    "    mean = mean_feature(matrix_coocurrence)\n",
    "    for i in range(matrix_coocurrence.shape[0]):\n",
    "        for j in range(matrix_coocurrence.shape[1]):\n",
    "            v = i * matrix_coocurrence[i][j]*(i - mean)    # whether to remove i\n",
    "            summation += v\n",
    "    return summation\n",
    "\n",
    "def entropy_feature(matrix_coocurrence):\n",
    "    def get_ln_matrix(mat):\n",
    "        mat_copy = mat.copy()\n",
    "        for i in range(mat_copy.shape[0]):\n",
    "            for j in range(mat_copy.shape[1]):\n",
    "                if mat_copy[i][j] > 0:\n",
    "                    mat_copy[i][j] = math.log(mat_copy[i][j])\n",
    "                else:\n",
    "                    mat_copy[i][j] = 0\n",
    "        return mat_copy\n",
    "    summation = 0\n",
    "    for i in range(matrix_coocurrence.shape[0]):\n",
    "        for j in range(matrix_coocurrence.shape[1]):\n",
    "            v =  i*matrix_coocurrence[i][j]*-1*get_ln_matrix(matrix_coocurrence[i][j])   # whether to remove i\n",
    "            summation += v\n",
    "    return summation"
   ]
  }
 ],
 "metadata": {
  "kernelspec": {
   "display_name": "Python 3",
   "language": "python",
   "name": "python3"
  },
  "language_info": {
   "codemirror_mode": {
    "name": "ipython",
    "version": 3
   },
   "file_extension": ".py",
   "mimetype": "text/x-python",
   "name": "python",
   "nbconvert_exporter": "python",
   "pygments_lexer": "ipython3",
   "version": "3.7.9"
  }
 },
 "nbformat": 4,
 "nbformat_minor": 4
}
